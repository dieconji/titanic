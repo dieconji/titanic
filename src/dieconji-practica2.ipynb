{
 "cells": [
  {
   "cell_type": "code",
   "execution_count": 1,
   "metadata": {},
   "outputs": [],
   "source": [
    "# cargamos todas las librerías\n",
    "import pandas as pd\n",
    "import numpy as np\n",
    "import os\n",
    "import matplotlib.pyplot as plt\n",
    "%matplotlib inline \n",
    "from scipy.stats import anderson\n",
    "from scipy.stats import fligner\n",
    "import seaborn as sns\n",
    "from scipy import stats\n",
    "from sklearn.linear_model import LinearRegression\n",
    "from sklearn.metrics import r2_score\n",
    "from sklearn.metrics import confusion_matrix\n",
    "from sklearn.metrics import accuracy_score\n",
    "from sklearn.metrics import roc_curve\n",
    "from sklearn.metrics import roc_auc_score"
   ]
  },
  {
   "cell_type": "code",
   "execution_count": 2,
   "metadata": {},
   "outputs": [],
   "source": [
    "# cargamos los datasets\n",
    "DATA_FOLDER = 'titanic/'\n",
    "\n",
    "train = pd.read_csv(os.path.join(DATA_FOLDER, 'train.csv'))\n",
    "test = pd.read_csv(os.path.join(DATA_FOLDER, 'test.csv'))"
   ]
  },
  {
   "cell_type": "code",
   "execution_count": 3,
   "metadata": {},
   "outputs": [
    {
     "name": "stdout",
     "output_type": "stream",
     "text": [
      "train.head()\n",
      "   PassengerId  Survived  Pclass  \\\n",
      "0            1         0       3   \n",
      "1            2         1       1   \n",
      "2            3         1       3   \n",
      "3            4         1       1   \n",
      "4            5         0       3   \n",
      "\n",
      "                                                Name     Sex   Age  SibSp  \\\n",
      "0                            Braund, Mr. Owen Harris    male  22.0      1   \n",
      "1  Cumings, Mrs. John Bradley (Florence Briggs Th...  female  38.0      1   \n",
      "2                             Heikkinen, Miss. Laina  female  26.0      0   \n",
      "3       Futrelle, Mrs. Jacques Heath (Lily May Peel)  female  35.0      1   \n",
      "4                           Allen, Mr. William Henry    male  35.0      0   \n",
      "\n",
      "   Parch            Ticket     Fare Cabin Embarked  \n",
      "0      0         A/5 21171   7.2500   NaN        S  \n",
      "1      0          PC 17599  71.2833   C85        C  \n",
      "2      0  STON/O2. 3101282   7.9250   NaN        S  \n",
      "3      0            113803  53.1000  C123        S  \n",
      "4      0            373450   8.0500   NaN        S  \n",
      "\n",
      "train.info(verbose=True)\n",
      "<class 'pandas.core.frame.DataFrame'>\n",
      "RangeIndex: 891 entries, 0 to 890\n",
      "Data columns (total 12 columns):\n",
      "PassengerId    891 non-null int64\n",
      "Survived       891 non-null int64\n",
      "Pclass         891 non-null int64\n",
      "Name           891 non-null object\n",
      "Sex            891 non-null object\n",
      "Age            714 non-null float64\n",
      "SibSp          891 non-null int64\n",
      "Parch          891 non-null int64\n",
      "Ticket         891 non-null object\n",
      "Fare           891 non-null float64\n",
      "Cabin          204 non-null object\n",
      "Embarked       889 non-null object\n",
      "dtypes: float64(2), int64(5), object(5)\n",
      "memory usage: 83.6+ KB\n",
      "None\n",
      "\n",
      "train.describe()\n",
      "        PassengerId    Survived      Pclass                   Name   Sex  \\\n",
      "count    891.000000  891.000000  891.000000                    891   891   \n",
      "unique          NaN         NaN         NaN                    891     2   \n",
      "top             NaN         NaN         NaN  Bazzani, Miss. Albina  male   \n",
      "freq            NaN         NaN         NaN                      1   577   \n",
      "mean     446.000000    0.383838    2.308642                    NaN   NaN   \n",
      "std      257.353842    0.486592    0.836071                    NaN   NaN   \n",
      "min        1.000000    0.000000    1.000000                    NaN   NaN   \n",
      "25%      223.500000    0.000000    2.000000                    NaN   NaN   \n",
      "50%      446.000000    0.000000    3.000000                    NaN   NaN   \n",
      "75%      668.500000    1.000000    3.000000                    NaN   NaN   \n",
      "max      891.000000    1.000000    3.000000                    NaN   NaN   \n",
      "\n",
      "               Age       SibSp       Parch Ticket        Fare Cabin Embarked  \n",
      "count   714.000000  891.000000  891.000000    891  891.000000   204      889  \n",
      "unique         NaN         NaN         NaN    681         NaN   147        3  \n",
      "top            NaN         NaN         NaN   1601         NaN    G6        S  \n",
      "freq           NaN         NaN         NaN      7         NaN     4      644  \n",
      "mean     29.699118    0.523008    0.381594    NaN   32.204208   NaN      NaN  \n",
      "std      14.526497    1.102743    0.806057    NaN   49.693429   NaN      NaN  \n",
      "min       0.420000    0.000000    0.000000    NaN    0.000000   NaN      NaN  \n",
      "25%      20.125000    0.000000    0.000000    NaN    7.910400   NaN      NaN  \n",
      "50%      28.000000    0.000000    0.000000    NaN   14.454200   NaN      NaN  \n",
      "75%      38.000000    1.000000    0.000000    NaN   31.000000   NaN      NaN  \n",
      "max      80.000000    8.000000    6.000000    NaN  512.329200   NaN      NaN  \n"
     ]
    }
   ],
   "source": [
    "# mostramos la información básica del dataset train\n",
    "print('train.head()')\n",
    "print(train.head())\n",
    "\n",
    "print('\\ntrain.info(verbose=True)')\n",
    "print(train.info(verbose=True))\n",
    "\n",
    "print('\\ntrain.describe()')\n",
    "print(train.describe(include = 'all'))"
   ]
  },
  {
   "cell_type": "code",
   "execution_count": 4,
   "metadata": {},
   "outputs": [],
   "source": [
    "# descartamos las columnas que no son relevantes para nuestro modelo\n",
    "train.drop(columns=['PassengerId', 'Ticket', 'Name'], inplace = True)"
   ]
  },
  {
   "cell_type": "code",
   "execution_count": 5,
   "metadata": {},
   "outputs": [
    {
     "name": "stdout",
     "output_type": "stream",
     "text": [
      "\n",
      "train.isna(): \n",
      "Survived      0\n",
      "Pclass        0\n",
      "Sex           0\n",
      "Age         177\n",
      "SibSp         0\n",
      "Parch         0\n",
      "Fare          0\n",
      "Cabin       687\n",
      "Embarked      2\n",
      "dtype: int64\n"
     ]
    }
   ],
   "source": [
    "# mostramos la cantidad de valores nulos que tienen los atributos\n",
    "print('\\ntrain.isna(): ')\n",
    "print(train.isna().sum())"
   ]
  },
  {
   "cell_type": "code",
   "execution_count": 6,
   "metadata": {},
   "outputs": [],
   "source": [
    "# completamos la edad con la media\n",
    "train['Age'].fillna(train['Age'].mean(), inplace = True)\n",
    "\n",
    "# completamos embarcado con la moda\n",
    "train['Embarked'].fillna(train['Embarked'].mode()[0], inplace = True)\n",
    "\n",
    "# completamos la tarifa con la media\n",
    "train['Fare'].fillna(train['Fare'].mean(), inplace = True)\n",
    "\n",
    "# eliminamos la columna cabina\n",
    "#train.drop(columns=['Cabin'], inplace = True)"
   ]
  },
  {
   "cell_type": "code",
   "execution_count": 7,
   "metadata": {},
   "outputs": [
    {
     "data": {
      "text/plain": [
       "<matplotlib.axes._subplots.AxesSubplot at 0x106760940>"
      ]
     },
     "execution_count": 7,
     "metadata": {},
     "output_type": "execute_result"
    },
    {
     "data": {
      "image/png": "[encoded data removed]",
      "text/plain": [
       "<Figure size 432x288 with 1 Axes>"
      ]
     },
     "metadata": {},
     "output_type": "display_data"
    }
   ],
   "source": [
    "# mostramos los boxplot para ver outliers\n",
    "train.boxplot()"
   ]
  },
  {
   "cell_type": "code",
   "execution_count": 8,
   "metadata": {},
   "outputs": [
    {
     "data": {
      "text/plain": [
       "Text(0.5,1,'Fare Boxplot')"
      ]
     },
     "execution_count": 8,
     "metadata": {},
     "output_type": "execute_result"
    },
    {
     "data": {
      "image/png": "[encoded data removed]",
      "text/plain": [
       "<Figure size 1152x576 with 4 Axes>"
      ]
     },
     "metadata": {},
     "output_type": "display_data"
    }
   ],
   "source": [
    "# boxplot individuales para las variables numéricas\n",
    "plt.figure(figsize=[16,8])\n",
    "plt.subplot(221)\n",
    "plt.boxplot(x=train['Age'], showmeans = True, meanline = True)\n",
    "plt.title('Age Boxplot')\n",
    "\n",
    "plt.subplot(222)\n",
    "plt.boxplot(x=train['SibSp'], showmeans = True, meanline = True)\n",
    "plt.title('SibSp Boxplot')\n",
    "\n",
    "plt.subplot(223)\n",
    "plt.boxplot(x=train['Parch'], showmeans = True, meanline = True)\n",
    "plt.title('Parch Boxplot')\n",
    "\n",
    "plt.subplot(224)\n",
    "plt.boxplot(x=train['Fare'], showmeans = True, meanline = True)\n",
    "plt.title('Fare Boxplot')"
   ]
  },
  {
   "cell_type": "code",
   "execution_count": 9,
   "metadata": {},
   "outputs": [
    {
     "name": "stdout",
     "output_type": "stream",
     "text": [
      "Age:\n",
      "------\n",
      "Statistic: 15.318\n",
      "15.000: 0.573, los datos no son normales (rechazamos H0)\n",
      "10.000: 0.653, los datos no son normales (rechazamos H0)\n",
      "5.000: 0.784, los datos no son normales (rechazamos H0)\n",
      "2.500: 0.914, los datos no son normales (rechazamos H0)\n",
      "1.000: 1.087, los datos no son normales (rechazamos H0)\n",
      "\n",
      "SibSp:\n",
      "------\n",
      "Statistic: 147.365\n",
      "15.000: 0.573, los datos no son normales (rechazamos H0)\n",
      "10.000: 0.653, los datos no son normales (rechazamos H0)\n",
      "5.000: 0.784, los datos no son normales (rechazamos H0)\n",
      "2.500: 0.914, los datos no son normales (rechazamos H0)\n",
      "1.000: 1.087, los datos no son normales (rechazamos H0)\n",
      "\n",
      "Parch:\n",
      "------\n",
      "Statistic: 175.659\n",
      "15.000: 0.573, los datos no son normales (rechazamos H0)\n",
      "10.000: 0.653, los datos no son normales (rechazamos H0)\n",
      "5.000: 0.784, los datos no son normales (rechazamos H0)\n",
      "2.500: 0.914, los datos no son normales (rechazamos H0)\n",
      "1.000: 1.087, los datos no son normales (rechazamos H0)\n",
      "\n",
      "Fare:\n",
      "------\n",
      "Statistic: 122.170\n",
      "15.000: 0.573, los datos no son normales (rechazamos H0)\n",
      "10.000: 0.653, los datos no son normales (rechazamos H0)\n",
      "5.000: 0.784, los datos no son normales (rechazamos H0)\n",
      "2.500: 0.914, los datos no son normales (rechazamos H0)\n",
      "1.000: 1.087, los datos no son normales (rechazamos H0)\n"
     ]
    }
   ],
   "source": [
    "# comprobación de la normalidad de los datos mediante el test de Anderson\n",
    "print('Age:\\n------')\n",
    "result = anderson(train['Age'])\n",
    "print('Statistic: %.3f' % result.statistic)\n",
    "p = 0\n",
    "for i in range(len(result.critical_values)):\n",
    "\tsl, cv = result.significance_level[i], result.critical_values[i]\n",
    "\tif result.statistic < result.critical_values[i]:\n",
    "\t\tprint('%.3f: %.3f, los datos son normales (no podemos rechazar H0)' % (sl, cv))\n",
    "\telse:\n",
    "\t\tprint('%.3f: %.3f, los datos no son normales (rechazamos H0)' % (sl, cv))\n",
    "      \n",
    "    \n",
    "print('\\nSibSp:\\n------')        \n",
    "result = anderson(train['SibSp'])\n",
    "print('Statistic: %.3f' % result.statistic)\n",
    "for i in range(len(result.critical_values)):\n",
    "\tsl, cv = result.significance_level[i], result.critical_values[i]\n",
    "\tif result.statistic < result.critical_values[i]:\n",
    "\t\tprint('%.3f: %.3f, los datos son normales (no podemos rechazar H0)' % (sl, cv))\n",
    "\telse:\n",
    "\t\tprint('%.3f: %.3f, los datos no son normales (rechazamos H0)' % (sl, cv))\n",
    "\n",
    "        \n",
    "print('\\nParch:\\n------')\n",
    "result = anderson(train['Parch'])\n",
    "print('Statistic: %.3f' % result.statistic)\n",
    "for i in range(len(result.critical_values)):\n",
    "\tsl, cv = result.significance_level[i], result.critical_values[i]\n",
    "\tif result.statistic < result.critical_values[i]:\n",
    "\t\tprint('%.3f: %.3f, los datos son normales (no podemos rechazar H0)' % (sl, cv))\n",
    "\telse:\n",
    "\t\tprint('%.3f: %.3f, los datos no son normales (rechazamos H0)' % (sl, cv))\n",
    "        \n",
    "        \n",
    "print('\\nFare:\\n------')\n",
    "result = anderson(train['Fare'])\n",
    "print('Statistic: %.3f' % result.statistic)\n",
    "for i in range(len(result.critical_values)):\n",
    "\tsl, cv = result.significance_level[i], result.critical_values[i]\n",
    "\tif result.statistic < result.critical_values[i]:\n",
    "\t\tprint('%.3f: %.3f, los datos son normales (no podemos rechazar H0)' % (sl, cv))\n",
    "\telse:\n",
    "\t\tprint('%.3f: %.3f, los datos no son normales (rechazamos H0)' % (sl, cv))"
   ]
  },
  {
   "cell_type": "code",
   "execution_count": 10,
   "metadata": {},
   "outputs": [
    {
     "name": "stdout",
     "output_type": "stream",
     "text": [
      "Age vs Fare: statistic 80.331, pvalue 0.000\n",
      "Age vs SibSp: statistic 648.724, pvalue 0.000\n",
      "Age vs Parch: statistic 698.022, pvalue 0.000\n",
      "Fare vs SibSp: statistic 1017.054, pvalue 0.000\n",
      "Fare vs Parch: statistic 1045.984, pvalue 0.000\n",
      "SibSp vs Parch: statistic 8.778, pvalue 0.003\n"
     ]
    }
   ],
   "source": [
    "# comprobación de la homegeneidad de las varianzas mediante el algoritmo de Flinger\n",
    "statistic, pvalue = fligner(train['Age'], train['Fare'])\n",
    "print('Age vs Fare: statistic %.3f, pvalue %.3f' % (statistic, pvalue))\n",
    "\n",
    "statistic, pvalue = fligner(train['Age'], train['SibSp'])\n",
    "print('Age vs SibSp: statistic %.3f, pvalue %.3f' % (statistic, pvalue))\n",
    "\n",
    "statistic, pvalue = fligner(train['Age'], train['Parch'])\n",
    "print('Age vs Parch: statistic %.3f, pvalue %.3f' % (statistic, pvalue))\n",
    "\n",
    "statistic, pvalue = fligner(train['Fare'], train['SibSp'])\n",
    "print('Fare vs SibSp: statistic %.3f, pvalue %.3f' % (statistic, pvalue))\n",
    "\n",
    "statistic, pvalue = fligner(train['Fare'], train['Parch'])\n",
    "print('Fare vs Parch: statistic %.3f, pvalue %.3f' % (statistic, pvalue))\n",
    "\n",
    "statistic, pvalue = fligner(train['SibSp'], train['Parch'])\n",
    "print('SibSp vs Parch: statistic %.3f, pvalue %.3f' % (statistic, pvalue))"
   ]
  },
  {
   "cell_type": "code",
   "execution_count": 11,
   "metadata": {},
   "outputs": [
    {
     "name": "stdout",
     "output_type": "stream",
     "text": [
      "Edad hombres sobrevivientes: media 27.632, 15.258\n",
      "Edad mujeres sobrevivientes: media 28.979, 13.033\n",
      "t-statistic: -0.796, p value: 0.427\n"
     ]
    }
   ],
   "source": [
    "# obtenemos los datasets separados para hombres y mujeres sobrevivientes\n",
    "sobrevivientes = train[train['Survived']==1]\n",
    "edad_hombres_sv = sobrevivientes[sobrevivientes['Sex']=='male']['Age']\n",
    "edad_mujeres_sv = sobrevivientes[sobrevivientes['Sex']=='female']['Age']\n",
    "print('Edad hombres sobrevivientes: media %.3f, %.3f' % (edad_hombres_sv.mean(), edad_hombres_sv.std()))\n",
    "print('Edad mujeres sobrevivientes: media %.3f, %.3f' % (edad_mujeres_sv.mean(), edad_mujeres_sv.std()))\n",
    "\n",
    "# contraste de hipótesis sobre la diferencia de medias (Welch's t-test)\n",
    "t, p = stats.ttest_ind(edad_hombres_sv, edad_mujeres_sv, equal_var = False)\n",
    "print ('t-statistic: %.3f, p value: %.3f' % (t, p))"
   ]
  },
  {
   "cell_type": "code",
   "execution_count": 12,
   "metadata": {},
   "outputs": [
    {
     "name": "stdout",
     "output_type": "stream",
     "text": [
      "SibSp       0.035322\n",
      "Age         0.069809\n",
      "Parch       0.081629\n",
      "Fare        0.257307\n",
      "Pclass      0.338481\n",
      "Survived    1.000000\n",
      "Name: Survived, dtype: float64\n"
     ]
    }
   ],
   "source": [
    "# mostramos las correlaciones sobre la variable dependiente 'Survived'\n",
    "print(train.corr().abs()['Survived'].sort_values())"
   ]
  },
  {
   "cell_type": "code",
   "execution_count": 13,
   "metadata": {},
   "outputs": [
    {
     "name": "stdout",
     "output_type": "stream",
     "text": [
      "R^2: 0.088\n",
      "       Coefficient\n",
      "Age      -0.004317\n",
      "SibSp    -0.056920\n",
      "Parch     0.032993\n",
      "Fare      0.002709\n"
     ]
    },
    {
     "name": "stderr",
     "output_type": "stream",
     "text": [
      "/Library/Frameworks/Python.framework/Versions/3.6/lib/python3.6/site-packages/scipy/linalg/basic.py:1226: RuntimeWarning: internal gelsd driver lwork query error, required iwork dimension not returned. This is likely the result of LAPACK bug 0038, fixed in LAPACK 3.2.2 (released July 21, 2010). Falling back to 'gelss' driver.\n",
      "  warnings.warn(mesg, RuntimeWarning)\n"
     ]
    }
   ],
   "source": [
    "# obtenemos el modelo de regresion lineal\n",
    "X_train = train[['Age', 'SibSp', 'Parch', 'Fare']]\n",
    "y_train = train['Survived'] \n",
    "modelo = LinearRegression()  \n",
    "modelo.fit(X_train, y_train)  \n",
    "\n",
    "# mostramos R2\n",
    "r2 = modelo.score(X_train, y_train)\n",
    "print('R^2: %.3f' % (r2))\n",
    "\n",
    "# mostramos los coeficientes para los predictores del modelo\n",
    "coeff_df = pd.DataFrame(modelo.coef_, X_train.columns, columns=['Coefficient'])  \n",
    "print(coeff_df)"
   ]
  },
  {
   "cell_type": "code",
   "execution_count": 14,
   "metadata": {},
   "outputs": [
    {
     "name": "stdout",
     "output_type": "stream",
     "text": [
      "R^2: 0.395\n",
      "          Coefficient\n",
      "Age         -0.005816\n",
      "SibSp       -0.042867\n",
      "Parch       -0.020274\n",
      "Fare         0.000385\n",
      "Pclass      -0.167176\n",
      "Sex          0.513233\n",
      "Embarked     0.018309\n"
     ]
    }
   ],
   "source": [
    "# codificamos las variables categóricas\n",
    "codificaciones = {\"Sex\": {\"male\": 0, \"female\": 1},\n",
    "                \"Embarked\": {\"Q\": 0, \"S\": 1, \"C\": 2}}\n",
    "train_encoded = train.replace(codificaciones)\n",
    "\n",
    "# obtenemos el modelo de regresion lineal añadiendo las variables categóricas\n",
    "X_train = train_encoded[['Age', 'SibSp', 'Parch', 'Fare', 'Pclass', 'Sex', 'Embarked']]\n",
    "y_train = train_encoded['Survived'] \n",
    "modelo = LinearRegression()  \n",
    "modelo.fit(X_train, y_train)  \n",
    "\n",
    "# mostramos R2\n",
    "r2 = modelo.score(X_train, y_train)\n",
    "print('R^2: %.3f' % (r2))\n",
    "\n",
    "# mostramos los coeficientes para los predictores del modelo\n",
    "coeff_df = pd.DataFrame(modelo.coef_, X_train.columns, columns=['Coefficient'])  \n",
    "print(coeff_df)"
   ]
  },
  {
   "cell_type": "code",
   "execution_count": 15,
   "metadata": {},
   "outputs": [
    {
     "name": "stdout",
     "output_type": "stream",
     "text": [
      "Precisión: 0.798\n"
     ]
    }
   ],
   "source": [
    "# obtenemos las predicciones del conjunto de datos\n",
    "y_pred = np.round(modelo.predict(X_train)).astype(int)\n",
    "\n",
    "# mostramos la precisión del modelo\n",
    "print(\"Precisión: %.3f\" % accuracy_score(y_train, y_pred))"
   ]
  },
  {
   "cell_type": "code",
   "execution_count": 16,
   "metadata": {},
   "outputs": [
    {
     "data": {
      "image/png": "[encoded data removed]",
      "text/plain": [
       "<Figure size 864x576 with 2 Axes>"
      ]
     },
     "metadata": {},
     "output_type": "display_data"
    }
   ],
   "source": [
    "# mostramos el heatmap de correlaciones\n",
    "def correlation_heatmap(df):\n",
    "    _ , ax = plt.subplots(figsize =(12, 8))\n",
    "    colormap = sns.diverging_palette(220, 10, as_cmap = True)\n",
    "    \n",
    "    _ = sns.heatmap(\n",
    "        df.corr().abs(), \n",
    "        cmap = colormap,\n",
    "        square=True, \n",
    "        cbar_kws={'shrink':.9 }, \n",
    "        ax=ax,\n",
    "        annot=True, \n",
    "        linewidths=0.1,vmax=1.0, linecolor='white',\n",
    "        annot_kws={'fontsize':12 }\n",
    "    )\n",
    "    \n",
    "    plt.title('Pearson Correlation of Features', y=1.05, size=15)\n",
    "\n",
    "correlation_heatmap(train)"
   ]
  },
  {
   "cell_type": "code",
   "execution_count": 17,
   "metadata": {},
   "outputs": [
    {
     "data": {
      "text/plain": [
       "<matplotlib.axes._subplots.AxesSubplot at 0x11508e208>"
      ]
     },
     "execution_count": 17,
     "metadata": {},
     "output_type": "execute_result"
    },
    {
     "data": {
      "image/png": "[encoded data removed]",
      "text/plain": [
       "<Figure size 720x504 with 2 Axes>"
      ]
     },
     "metadata": {},
     "output_type": "display_data"
    }
   ],
   "source": [
    "# mostramos la matriz de confusión\n",
    "cm = confusion_matrix(y_train, y_pred)\n",
    "plt.figure(figsize = (10,7))\n",
    "df_cm = pd.DataFrame(cm, index = ['REAL_MUERE', 'REAL_SOBREVIVE'],\n",
    "                  columns = ['PRED_MUERE', 'PRED_SOBREVIVE'])\n",
    "sns.heatmap(df_cm, annot=True, fmt=\"d\", cmap=\"YlGnBu\")"
   ]
  },
  {
   "cell_type": "code",
   "execution_count": 18,
   "metadata": {},
   "outputs": [
    {
     "data": {
      "text/plain": [
       "<matplotlib.axes._subplots.AxesSubplot at 0x115c31278>"
      ]
     },
     "execution_count": 18,
     "metadata": {},
     "output_type": "execute_result"
    },
    {
     "data": {
      "image/png": "[encoded data removed]",
      "text/plain": [
       "<Figure size 720x504 with 2 Axes>"
      ]
     },
     "metadata": {},
     "output_type": "display_data"
    }
   ],
   "source": [
    "# mostramos la matriz de confusión normalizada\n",
    "cm_norm = cm / cm.sum(axis=1)[:,None]\n",
    "df_cm = pd.DataFrame(cm_norm, index = ['REAL_MUERE', 'REAL_SOBREVIVE'],\n",
    "                  columns = ['PRED_MUERE', 'PRED_SOBREVIVE'])\n",
    "plt.figure(figsize = (10,7))\n",
    "sns.heatmap(df_cm, annot=True, fmt=\".2f\", cmap=\"YlGnBu\")"
   ]
  },
  {
   "cell_type": "code",
   "execution_count": 19,
   "metadata": {},
   "outputs": [
    {
     "data": {
      "image/png": "[encoded data removed]",
      "text/plain": [
       "<Figure size 432x288 with 1 Axes>"
      ]
     },
     "metadata": {},
     "output_type": "display_data"
    }
   ],
   "source": [
    "# mostramos la curva ROC\n",
    "fpr, tpr, _ = roc_curve(y_train,  y_pred)\n",
    "auc = roc_auc_score(y_train, y_pred)\n",
    "plt.plot(fpr, tpr, label = \"curva ROC, AUC=%.3f\" % auc)\n",
    "plt.legend(loc=4)\n",
    "plt.show()"
   ]
  },
  {
   "cell_type": "code",
   "execution_count": 20,
   "metadata": {},
   "outputs": [],
   "source": [
    "# exportamos el dataset\n",
    "train_encoded.to_csv('train_encoded.csv', index = False)"
   ]
  },
  {
   "cell_type": "code",
   "execution_count": 21,
   "metadata": {},
   "outputs": [],
   "source": [
    "# descartamos las columnas que no son relevantes para nuestro modelo\n",
    "test.drop(columns=['Ticket', 'Name', 'Cabin'], inplace = True)\n",
    "\n",
    "# completamos la edad con la media\n",
    "test['Age'].fillna(test['Age'].mean(), inplace = True)\n",
    "\n",
    "# completamos embarcado con la moda\n",
    "test['Embarked'].fillna(test['Embarked'].mode()[0], inplace = True)\n",
    "\n",
    "# completamos la tarifa con la media\n",
    "test['Fare'].fillna(test['Fare'].mean(), inplace = True)\n",
    "\n",
    "# codificamos las variables categóricas\n",
    "test_encoded = test.replace(codificaciones)\n",
    "\n",
    "# obtenemos el conjunto de test final\n",
    "X_test = test_encoded[['Age', 'SibSp', 'Parch', 'Fare', 'Pclass', 'Sex', 'Embarked']]\n",
    "\n",
    "# obtenemos las predicciones del conjunto de datos\n",
    "y_pred = np.round(modelo.predict(X_test)).astype(int)\n",
    "\n",
    "# creamos el dataset submission\n",
    "test['Survived'] = y_pred\n",
    "submission = test.drop(columns=['Pclass','Sex','Age','SibSp','Parch','Fare','Embarked'])\n",
    "\n",
    "# exportamos el dataset\n",
    "submission.to_csv('submission.csv', index = False)"
   ]
  },
  {
   "cell_type": "code",
   "execution_count": null,
   "metadata": {},
   "outputs": [],
   "source": []
  }
 ],
 "metadata": {
  "kernelspec": {
   "display_name": "Python 3",
   "language": "python",
   "name": "python3"
  },
  "language_info": {
   "codemirror_mode": {
    "name": "ipython",
    "version": 3
   },
   "file_extension": ".py",
   "mimetype": "text/x-python",
   "name": "python",
   "nbconvert_exporter": "python",
   "pygments_lexer": "ipython3",
   "version": "3.6.4"
  }
 },
 "nbformat": 4,
 "nbformat_minor": 2
}
